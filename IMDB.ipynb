{
  "nbformat": 4,
  "nbformat_minor": 0,
  "metadata": {
    "colab": {
      "provenance": [],
      "authorship_tag": "ABX9TyM5kSDcN5EOA4UwJRqo0oXU",
      "include_colab_link": true
    },
    "kernelspec": {
      "name": "python3",
      "display_name": "Python 3"
    },
    "language_info": {
      "name": "python"
    }
  },
  "cells": [
    {
      "cell_type": "markdown",
      "metadata": {
        "id": "view-in-github",
        "colab_type": "text"
      },
      "source": [
        "<a href=\"https://colab.research.google.com/github/ayushs0911/Practice/blob/main/IMDB.ipynb\" target=\"_parent\"><img src=\"https://colab.research.google.com/assets/colab-badge.svg\" alt=\"Open In Colab\"/></a>"
      ]
    },
    {
      "cell_type": "code",
      "source": [
        "import pandas as pd \n",
        "import numpy as np \n",
        "import tensorflow as tf\n",
        "import re \n",
        "import seaborn as sns \n",
        "import nltk\n",
        "nltk.download('punkt')"
      ],
      "metadata": {
        "colab": {
          "base_uri": "https://localhost:8080/"
        },
        "id": "DU3j9BVv7DCT",
        "outputId": "1b43bc4b-4328-4f23-f868-bbdea739a860"
      },
      "execution_count": 6,
      "outputs": [
        {
          "output_type": "stream",
          "name": "stderr",
          "text": [
            "[nltk_data] Downloading package punkt to /root/nltk_data...\n",
            "[nltk_data]   Package punkt is already up-to-date!\n"
          ]
        },
        {
          "output_type": "execute_result",
          "data": {
            "text/plain": [
              "True"
            ]
          },
          "metadata": {},
          "execution_count": 6
        }
      ]
    },
    {
      "cell_type": "code",
      "source": [
        "import nltk \n",
        "from nltk.corpus import stopwords \n",
        "from nltk.tokenize import word_tokenize \n",
        "nltk.download('stopwords')\n",
        "stop_words = set(stopwords.words('english'))"
      ],
      "metadata": {
        "colab": {
          "base_uri": "https://localhost:8080/"
        },
        "id": "awPlKDuM7NOt",
        "outputId": "54d5668e-5be4-4d9f-c0d8-267de94396df"
      },
      "execution_count": 7,
      "outputs": [
        {
          "output_type": "stream",
          "name": "stderr",
          "text": [
            "[nltk_data] Downloading package stopwords to /root/nltk_data...\n",
            "[nltk_data]   Package stopwords is already up-to-date!\n"
          ]
        }
      ]
    },
    {
      "cell_type": "code",
      "source": [
        "\n",
        "!pip install -q kaggle\n",
        "!mkdir ~/.kaggle\n",
        "!cp kaggle.json ~/.kaggle/\n",
        "!chmod 600 /root/.kaggle/kaggle.json\n",
        "! kaggle datasets download -d atulanandjha/imdb-50k-movie-reviews-test-your-bert"
      ],
      "metadata": {
        "colab": {
          "base_uri": "https://localhost:8080/"
        },
        "id": "GGNqP6YX8QOW",
        "outputId": "c9c3886c-3418-47bd-b97a-12c81a4288df"
      },
      "execution_count": 8,
      "outputs": [
        {
          "output_type": "stream",
          "name": "stdout",
          "text": [
            "mkdir: cannot create directory ‘/root/.kaggle’: File exists\n",
            "Downloading imdb-50k-movie-reviews-test-your-bert.zip to /content\n",
            " 90% 23.0M/25.7M [00:00<00:00, 128MB/s] \n",
            "100% 25.7M/25.7M [00:00<00:00, 116MB/s]\n"
          ]
        }
      ]
    },
    {
      "cell_type": "code",
      "source": [
        "!unzip /content/imdb-50k-movie-reviews-test-your-bert.zip"
      ],
      "metadata": {
        "colab": {
          "base_uri": "https://localhost:8080/"
        },
        "id": "H_gYHw-D9X7L",
        "outputId": "54e17866-ed0b-489f-c208-f787eff8611a"
      },
      "execution_count": 9,
      "outputs": [
        {
          "output_type": "stream",
          "name": "stdout",
          "text": [
            "Archive:  /content/imdb-50k-movie-reviews-test-your-bert.zip\n",
            "  inflating: test.csv                \n",
            "  inflating: train.csv               \n"
          ]
        }
      ]
    },
    {
      "cell_type": "code",
      "source": [
        "df = pd.read_csv(\"/content/train.csv\")"
      ],
      "metadata": {
        "id": "Y-6WRmnr_b_U"
      },
      "execution_count": 10,
      "outputs": []
    },
    {
      "cell_type": "code",
      "source": [
        "df.head()"
      ],
      "metadata": {
        "colab": {
          "base_uri": "https://localhost:8080/",
          "height": 206
        },
        "id": "JrUYqjFz_ysa",
        "outputId": "5f09c276-8445-4fb7-d3f7-87d66832fdb2"
      },
      "execution_count": 11,
      "outputs": [
        {
          "output_type": "execute_result",
          "data": {
            "text/plain": [
              "                                                text sentiment\n",
              "0  Now, I won't deny that when I purchased this o...       neg\n",
              "1  The saddest thing about this \"tribute\" is that...       neg\n",
              "2  Last night I decided to watch the prequel or s...       neg\n",
              "3  I have to admit that i liked the first half of...       neg\n",
              "4  I was not impressed about this film especially...       neg"
            ],
            "text/html": [
              "\n",
              "  <div id=\"df-66751757-8d88-4fc3-981c-e1eff9fec5fb\">\n",
              "    <div class=\"colab-df-container\">\n",
              "      <div>\n",
              "<style scoped>\n",
              "    .dataframe tbody tr th:only-of-type {\n",
              "        vertical-align: middle;\n",
              "    }\n",
              "\n",
              "    .dataframe tbody tr th {\n",
              "        vertical-align: top;\n",
              "    }\n",
              "\n",
              "    .dataframe thead th {\n",
              "        text-align: right;\n",
              "    }\n",
              "</style>\n",
              "<table border=\"1\" class=\"dataframe\">\n",
              "  <thead>\n",
              "    <tr style=\"text-align: right;\">\n",
              "      <th></th>\n",
              "      <th>text</th>\n",
              "      <th>sentiment</th>\n",
              "    </tr>\n",
              "  </thead>\n",
              "  <tbody>\n",
              "    <tr>\n",
              "      <th>0</th>\n",
              "      <td>Now, I won't deny that when I purchased this o...</td>\n",
              "      <td>neg</td>\n",
              "    </tr>\n",
              "    <tr>\n",
              "      <th>1</th>\n",
              "      <td>The saddest thing about this \"tribute\" is that...</td>\n",
              "      <td>neg</td>\n",
              "    </tr>\n",
              "    <tr>\n",
              "      <th>2</th>\n",
              "      <td>Last night I decided to watch the prequel or s...</td>\n",
              "      <td>neg</td>\n",
              "    </tr>\n",
              "    <tr>\n",
              "      <th>3</th>\n",
              "      <td>I have to admit that i liked the first half of...</td>\n",
              "      <td>neg</td>\n",
              "    </tr>\n",
              "    <tr>\n",
              "      <th>4</th>\n",
              "      <td>I was not impressed about this film especially...</td>\n",
              "      <td>neg</td>\n",
              "    </tr>\n",
              "  </tbody>\n",
              "</table>\n",
              "</div>\n",
              "      <button class=\"colab-df-convert\" onclick=\"convertToInteractive('df-66751757-8d88-4fc3-981c-e1eff9fec5fb')\"\n",
              "              title=\"Convert this dataframe to an interactive table.\"\n",
              "              style=\"display:none;\">\n",
              "        \n",
              "  <svg xmlns=\"http://www.w3.org/2000/svg\" height=\"24px\"viewBox=\"0 0 24 24\"\n",
              "       width=\"24px\">\n",
              "    <path d=\"M0 0h24v24H0V0z\" fill=\"none\"/>\n",
              "    <path d=\"M18.56 5.44l.94 2.06.94-2.06 2.06-.94-2.06-.94-.94-2.06-.94 2.06-2.06.94zm-11 1L8.5 8.5l.94-2.06 2.06-.94-2.06-.94L8.5 2.5l-.94 2.06-2.06.94zm10 10l.94 2.06.94-2.06 2.06-.94-2.06-.94-.94-2.06-.94 2.06-2.06.94z\"/><path d=\"M17.41 7.96l-1.37-1.37c-.4-.4-.92-.59-1.43-.59-.52 0-1.04.2-1.43.59L10.3 9.45l-7.72 7.72c-.78.78-.78 2.05 0 2.83L4 21.41c.39.39.9.59 1.41.59.51 0 1.02-.2 1.41-.59l7.78-7.78 2.81-2.81c.8-.78.8-2.07 0-2.86zM5.41 20L4 18.59l7.72-7.72 1.47 1.35L5.41 20z\"/>\n",
              "  </svg>\n",
              "      </button>\n",
              "      \n",
              "  <style>\n",
              "    .colab-df-container {\n",
              "      display:flex;\n",
              "      flex-wrap:wrap;\n",
              "      gap: 12px;\n",
              "    }\n",
              "\n",
              "    .colab-df-convert {\n",
              "      background-color: #E8F0FE;\n",
              "      border: none;\n",
              "      border-radius: 50%;\n",
              "      cursor: pointer;\n",
              "      display: none;\n",
              "      fill: #1967D2;\n",
              "      height: 32px;\n",
              "      padding: 0 0 0 0;\n",
              "      width: 32px;\n",
              "    }\n",
              "\n",
              "    .colab-df-convert:hover {\n",
              "      background-color: #E2EBFA;\n",
              "      box-shadow: 0px 1px 2px rgba(60, 64, 67, 0.3), 0px 1px 3px 1px rgba(60, 64, 67, 0.15);\n",
              "      fill: #174EA6;\n",
              "    }\n",
              "\n",
              "    [theme=dark] .colab-df-convert {\n",
              "      background-color: #3B4455;\n",
              "      fill: #D2E3FC;\n",
              "    }\n",
              "\n",
              "    [theme=dark] .colab-df-convert:hover {\n",
              "      background-color: #434B5C;\n",
              "      box-shadow: 0px 1px 3px 1px rgba(0, 0, 0, 0.15);\n",
              "      filter: drop-shadow(0px 1px 2px rgba(0, 0, 0, 0.3));\n",
              "      fill: #FFFFFF;\n",
              "    }\n",
              "  </style>\n",
              "\n",
              "      <script>\n",
              "        const buttonEl =\n",
              "          document.querySelector('#df-66751757-8d88-4fc3-981c-e1eff9fec5fb button.colab-df-convert');\n",
              "        buttonEl.style.display =\n",
              "          google.colab.kernel.accessAllowed ? 'block' : 'none';\n",
              "\n",
              "        async function convertToInteractive(key) {\n",
              "          const element = document.querySelector('#df-66751757-8d88-4fc3-981c-e1eff9fec5fb');\n",
              "          const dataTable =\n",
              "            await google.colab.kernel.invokeFunction('convertToInteractive',\n",
              "                                                     [key], {});\n",
              "          if (!dataTable) return;\n",
              "\n",
              "          const docLinkHtml = 'Like what you see? Visit the ' +\n",
              "            '<a target=\"_blank\" href=https://colab.research.google.com/notebooks/data_table.ipynb>data table notebook</a>'\n",
              "            + ' to learn more about interactive tables.';\n",
              "          element.innerHTML = '';\n",
              "          dataTable['output_type'] = 'display_data';\n",
              "          await google.colab.output.renderOutput(dataTable, element);\n",
              "          const docLink = document.createElement('div');\n",
              "          docLink.innerHTML = docLinkHtml;\n",
              "          element.appendChild(docLink);\n",
              "        }\n",
              "      </script>\n",
              "    </div>\n",
              "  </div>\n",
              "  "
            ]
          },
          "metadata": {},
          "execution_count": 11
        }
      ]
    },
    {
      "cell_type": "code",
      "source": [
        "def tokenize(df, input_col = \"text\", output_col = \"tokenized_text\"):\n",
        "  df.loc[:, output_col] = df.loc[:, input_col].apply(lambda x : word_tokenize(x))\n",
        "  return df"
      ],
      "metadata": {
        "id": "Zdt1wRAMA6jA"
      },
      "execution_count": 12,
      "outputs": []
    },
    {
      "cell_type": "code",
      "source": [
        "df = tokenize(df)"
      ],
      "metadata": {
        "id": "mZ0DZHQDB9qa"
      },
      "execution_count": 13,
      "outputs": []
    },
    {
      "cell_type": "code",
      "source": [
        "df.head()"
      ],
      "metadata": {
        "colab": {
          "base_uri": "https://localhost:8080/",
          "height": 337
        },
        "id": "75SIu5bbCAQI",
        "outputId": "48b31537-7ff2-4733-a5de-8d26d4b8f9d6"
      },
      "execution_count": 14,
      "outputs": [
        {
          "output_type": "execute_result",
          "data": {
            "text/plain": [
              "                                                text sentiment  \\\n",
              "0  Now, I won't deny that when I purchased this o...       neg   \n",
              "1  The saddest thing about this \"tribute\" is that...       neg   \n",
              "2  Last night I decided to watch the prequel or s...       neg   \n",
              "3  I have to admit that i liked the first half of...       neg   \n",
              "4  I was not impressed about this film especially...       neg   \n",
              "\n",
              "                                      tokenized_text  \n",
              "0  [Now, ,, I, wo, n't, deny, that, when, I, purc...  \n",
              "1  [The, saddest, thing, about, this, ``, tribute...  \n",
              "2  [Last, night, I, decided, to, watch, the, preq...  \n",
              "3  [I, have, to, admit, that, i, liked, the, firs...  \n",
              "4  [I, was, not, impressed, about, this, film, es...  "
            ],
            "text/html": [
              "\n",
              "  <div id=\"df-6eda238c-a6e6-416c-8047-e2be15b3d873\">\n",
              "    <div class=\"colab-df-container\">\n",
              "      <div>\n",
              "<style scoped>\n",
              "    .dataframe tbody tr th:only-of-type {\n",
              "        vertical-align: middle;\n",
              "    }\n",
              "\n",
              "    .dataframe tbody tr th {\n",
              "        vertical-align: top;\n",
              "    }\n",
              "\n",
              "    .dataframe thead th {\n",
              "        text-align: right;\n",
              "    }\n",
              "</style>\n",
              "<table border=\"1\" class=\"dataframe\">\n",
              "  <thead>\n",
              "    <tr style=\"text-align: right;\">\n",
              "      <th></th>\n",
              "      <th>text</th>\n",
              "      <th>sentiment</th>\n",
              "      <th>tokenized_text</th>\n",
              "    </tr>\n",
              "  </thead>\n",
              "  <tbody>\n",
              "    <tr>\n",
              "      <th>0</th>\n",
              "      <td>Now, I won't deny that when I purchased this o...</td>\n",
              "      <td>neg</td>\n",
              "      <td>[Now, ,, I, wo, n't, deny, that, when, I, purc...</td>\n",
              "    </tr>\n",
              "    <tr>\n",
              "      <th>1</th>\n",
              "      <td>The saddest thing about this \"tribute\" is that...</td>\n",
              "      <td>neg</td>\n",
              "      <td>[The, saddest, thing, about, this, ``, tribute...</td>\n",
              "    </tr>\n",
              "    <tr>\n",
              "      <th>2</th>\n",
              "      <td>Last night I decided to watch the prequel or s...</td>\n",
              "      <td>neg</td>\n",
              "      <td>[Last, night, I, decided, to, watch, the, preq...</td>\n",
              "    </tr>\n",
              "    <tr>\n",
              "      <th>3</th>\n",
              "      <td>I have to admit that i liked the first half of...</td>\n",
              "      <td>neg</td>\n",
              "      <td>[I, have, to, admit, that, i, liked, the, firs...</td>\n",
              "    </tr>\n",
              "    <tr>\n",
              "      <th>4</th>\n",
              "      <td>I was not impressed about this film especially...</td>\n",
              "      <td>neg</td>\n",
              "      <td>[I, was, not, impressed, about, this, film, es...</td>\n",
              "    </tr>\n",
              "  </tbody>\n",
              "</table>\n",
              "</div>\n",
              "      <button class=\"colab-df-convert\" onclick=\"convertToInteractive('df-6eda238c-a6e6-416c-8047-e2be15b3d873')\"\n",
              "              title=\"Convert this dataframe to an interactive table.\"\n",
              "              style=\"display:none;\">\n",
              "        \n",
              "  <svg xmlns=\"http://www.w3.org/2000/svg\" height=\"24px\"viewBox=\"0 0 24 24\"\n",
              "       width=\"24px\">\n",
              "    <path d=\"M0 0h24v24H0V0z\" fill=\"none\"/>\n",
              "    <path d=\"M18.56 5.44l.94 2.06.94-2.06 2.06-.94-2.06-.94-.94-2.06-.94 2.06-2.06.94zm-11 1L8.5 8.5l.94-2.06 2.06-.94-2.06-.94L8.5 2.5l-.94 2.06-2.06.94zm10 10l.94 2.06.94-2.06 2.06-.94-2.06-.94-.94-2.06-.94 2.06-2.06.94z\"/><path d=\"M17.41 7.96l-1.37-1.37c-.4-.4-.92-.59-1.43-.59-.52 0-1.04.2-1.43.59L10.3 9.45l-7.72 7.72c-.78.78-.78 2.05 0 2.83L4 21.41c.39.39.9.59 1.41.59.51 0 1.02-.2 1.41-.59l7.78-7.78 2.81-2.81c.8-.78.8-2.07 0-2.86zM5.41 20L4 18.59l7.72-7.72 1.47 1.35L5.41 20z\"/>\n",
              "  </svg>\n",
              "      </button>\n",
              "      \n",
              "  <style>\n",
              "    .colab-df-container {\n",
              "      display:flex;\n",
              "      flex-wrap:wrap;\n",
              "      gap: 12px;\n",
              "    }\n",
              "\n",
              "    .colab-df-convert {\n",
              "      background-color: #E8F0FE;\n",
              "      border: none;\n",
              "      border-radius: 50%;\n",
              "      cursor: pointer;\n",
              "      display: none;\n",
              "      fill: #1967D2;\n",
              "      height: 32px;\n",
              "      padding: 0 0 0 0;\n",
              "      width: 32px;\n",
              "    }\n",
              "\n",
              "    .colab-df-convert:hover {\n",
              "      background-color: #E2EBFA;\n",
              "      box-shadow: 0px 1px 2px rgba(60, 64, 67, 0.3), 0px 1px 3px 1px rgba(60, 64, 67, 0.15);\n",
              "      fill: #174EA6;\n",
              "    }\n",
              "\n",
              "    [theme=dark] .colab-df-convert {\n",
              "      background-color: #3B4455;\n",
              "      fill: #D2E3FC;\n",
              "    }\n",
              "\n",
              "    [theme=dark] .colab-df-convert:hover {\n",
              "      background-color: #434B5C;\n",
              "      box-shadow: 0px 1px 3px 1px rgba(0, 0, 0, 0.15);\n",
              "      filter: drop-shadow(0px 1px 2px rgba(0, 0, 0, 0.3));\n",
              "      fill: #FFFFFF;\n",
              "    }\n",
              "  </style>\n",
              "\n",
              "      <script>\n",
              "        const buttonEl =\n",
              "          document.querySelector('#df-6eda238c-a6e6-416c-8047-e2be15b3d873 button.colab-df-convert');\n",
              "        buttonEl.style.display =\n",
              "          google.colab.kernel.accessAllowed ? 'block' : 'none';\n",
              "\n",
              "        async function convertToInteractive(key) {\n",
              "          const element = document.querySelector('#df-6eda238c-a6e6-416c-8047-e2be15b3d873');\n",
              "          const dataTable =\n",
              "            await google.colab.kernel.invokeFunction('convertToInteractive',\n",
              "                                                     [key], {});\n",
              "          if (!dataTable) return;\n",
              "\n",
              "          const docLinkHtml = 'Like what you see? Visit the ' +\n",
              "            '<a target=\"_blank\" href=https://colab.research.google.com/notebooks/data_table.ipynb>data table notebook</a>'\n",
              "            + ' to learn more about interactive tables.';\n",
              "          element.innerHTML = '';\n",
              "          dataTable['output_type'] = 'display_data';\n",
              "          await google.colab.output.renderOutput(dataTable, element);\n",
              "          const docLink = document.createElement('div');\n",
              "          docLink.innerHTML = docLinkHtml;\n",
              "          element.appendChild(docLink);\n",
              "        }\n",
              "      </script>\n",
              "    </div>\n",
              "  </div>\n",
              "  "
            ]
          },
          "metadata": {},
          "execution_count": 14
        }
      ]
    },
    {
      "cell_type": "code",
      "source": [
        "def remove_stopwords(words):\n",
        "  filtered = [x for x in words if not x.lower() in stop_words]\n",
        "  return filtered "
      ],
      "metadata": {
        "id": "qAjOd0zSCZRh"
      },
      "execution_count": 15,
      "outputs": []
    },
    {
      "cell_type": "code",
      "source": [
        "def punct(words):\n",
        "  filtered = []\n",
        "  for word in words:\n",
        "    if re.findall(\"[()!><.,`?']\", word):\n",
        "      pass\n",
        "    else:\n",
        "      filtered.append(word)\n",
        "  return filtered"
      ],
      "metadata": {
        "id": "KiVBcrtgCxme"
      },
      "execution_count": 16,
      "outputs": []
    },
    {
      "cell_type": "code",
      "source": [
        "def clean_text(df, input_col = 'tokenized_text', output_col = 'clean_text'):\n",
        "  texts = df.loc[:, input_col]\n",
        "\n",
        "  word = []\n",
        "  for text in texts:\n",
        "    t = remove_stopwords(text)\n",
        "    t = punct(t)\n",
        "    t = \" \".join([str(i) for i in t])\n",
        "    word.append(t)\n",
        "  \n",
        "  df.loc[:, output_col] = word\n",
        "  return df"
      ],
      "metadata": {
        "id": "YiNfuckEDS52"
      },
      "execution_count": 17,
      "outputs": []
    },
    {
      "cell_type": "code",
      "source": [
        "df = clean_text(df)"
      ],
      "metadata": {
        "id": "PG1lNx9hEjFt"
      },
      "execution_count": 18,
      "outputs": []
    },
    {
      "cell_type": "code",
      "source": [
        "df.head()"
      ],
      "metadata": {
        "colab": {
          "base_uri": "https://localhost:8080/",
          "height": 424
        },
        "id": "QjQBjc5IElts",
        "outputId": "8dfeae63-c0ba-456e-9060-3b77c91e3758"
      },
      "execution_count": 19,
      "outputs": [
        {
          "output_type": "execute_result",
          "data": {
            "text/plain": [
              "                                                text sentiment  \\\n",
              "0  Now, I won't deny that when I purchased this o...       neg   \n",
              "1  The saddest thing about this \"tribute\" is that...       neg   \n",
              "2  Last night I decided to watch the prequel or s...       neg   \n",
              "3  I have to admit that i liked the first half of...       neg   \n",
              "4  I was not impressed about this film especially...       neg   \n",
              "\n",
              "                                      tokenized_text  \\\n",
              "0  [Now, ,, I, wo, n't, deny, that, when, I, purc...   \n",
              "1  [The, saddest, thing, about, this, ``, tribute...   \n",
              "2  [Last, night, I, decided, to, watch, the, preq...   \n",
              "3  [I, have, to, admit, that, i, liked, the, firs...   \n",
              "4  [I, was, not, impressed, about, this, film, es...   \n",
              "\n",
              "                                          clean_text  \n",
              "0  wo deny purchased eBay high expectations incre...  \n",
              "1  saddest thing tribute almost singers including...  \n",
              "2  Last night decided watch prequel shall say cal...  \n",
              "3  admit liked first half Sleepers looked good ac...  \n",
              "4  impressed film especially fact went cinema fam...  "
            ],
            "text/html": [
              "\n",
              "  <div id=\"df-88cd570c-ce85-4f1c-a2bf-61ac9e503022\">\n",
              "    <div class=\"colab-df-container\">\n",
              "      <div>\n",
              "<style scoped>\n",
              "    .dataframe tbody tr th:only-of-type {\n",
              "        vertical-align: middle;\n",
              "    }\n",
              "\n",
              "    .dataframe tbody tr th {\n",
              "        vertical-align: top;\n",
              "    }\n",
              "\n",
              "    .dataframe thead th {\n",
              "        text-align: right;\n",
              "    }\n",
              "</style>\n",
              "<table border=\"1\" class=\"dataframe\">\n",
              "  <thead>\n",
              "    <tr style=\"text-align: right;\">\n",
              "      <th></th>\n",
              "      <th>text</th>\n",
              "      <th>sentiment</th>\n",
              "      <th>tokenized_text</th>\n",
              "      <th>clean_text</th>\n",
              "    </tr>\n",
              "  </thead>\n",
              "  <tbody>\n",
              "    <tr>\n",
              "      <th>0</th>\n",
              "      <td>Now, I won't deny that when I purchased this o...</td>\n",
              "      <td>neg</td>\n",
              "      <td>[Now, ,, I, wo, n't, deny, that, when, I, purc...</td>\n",
              "      <td>wo deny purchased eBay high expectations incre...</td>\n",
              "    </tr>\n",
              "    <tr>\n",
              "      <th>1</th>\n",
              "      <td>The saddest thing about this \"tribute\" is that...</td>\n",
              "      <td>neg</td>\n",
              "      <td>[The, saddest, thing, about, this, ``, tribute...</td>\n",
              "      <td>saddest thing tribute almost singers including...</td>\n",
              "    </tr>\n",
              "    <tr>\n",
              "      <th>2</th>\n",
              "      <td>Last night I decided to watch the prequel or s...</td>\n",
              "      <td>neg</td>\n",
              "      <td>[Last, night, I, decided, to, watch, the, preq...</td>\n",
              "      <td>Last night decided watch prequel shall say cal...</td>\n",
              "    </tr>\n",
              "    <tr>\n",
              "      <th>3</th>\n",
              "      <td>I have to admit that i liked the first half of...</td>\n",
              "      <td>neg</td>\n",
              "      <td>[I, have, to, admit, that, i, liked, the, firs...</td>\n",
              "      <td>admit liked first half Sleepers looked good ac...</td>\n",
              "    </tr>\n",
              "    <tr>\n",
              "      <th>4</th>\n",
              "      <td>I was not impressed about this film especially...</td>\n",
              "      <td>neg</td>\n",
              "      <td>[I, was, not, impressed, about, this, film, es...</td>\n",
              "      <td>impressed film especially fact went cinema fam...</td>\n",
              "    </tr>\n",
              "  </tbody>\n",
              "</table>\n",
              "</div>\n",
              "      <button class=\"colab-df-convert\" onclick=\"convertToInteractive('df-88cd570c-ce85-4f1c-a2bf-61ac9e503022')\"\n",
              "              title=\"Convert this dataframe to an interactive table.\"\n",
              "              style=\"display:none;\">\n",
              "        \n",
              "  <svg xmlns=\"http://www.w3.org/2000/svg\" height=\"24px\"viewBox=\"0 0 24 24\"\n",
              "       width=\"24px\">\n",
              "    <path d=\"M0 0h24v24H0V0z\" fill=\"none\"/>\n",
              "    <path d=\"M18.56 5.44l.94 2.06.94-2.06 2.06-.94-2.06-.94-.94-2.06-.94 2.06-2.06.94zm-11 1L8.5 8.5l.94-2.06 2.06-.94-2.06-.94L8.5 2.5l-.94 2.06-2.06.94zm10 10l.94 2.06.94-2.06 2.06-.94-2.06-.94-.94-2.06-.94 2.06-2.06.94z\"/><path d=\"M17.41 7.96l-1.37-1.37c-.4-.4-.92-.59-1.43-.59-.52 0-1.04.2-1.43.59L10.3 9.45l-7.72 7.72c-.78.78-.78 2.05 0 2.83L4 21.41c.39.39.9.59 1.41.59.51 0 1.02-.2 1.41-.59l7.78-7.78 2.81-2.81c.8-.78.8-2.07 0-2.86zM5.41 20L4 18.59l7.72-7.72 1.47 1.35L5.41 20z\"/>\n",
              "  </svg>\n",
              "      </button>\n",
              "      \n",
              "  <style>\n",
              "    .colab-df-container {\n",
              "      display:flex;\n",
              "      flex-wrap:wrap;\n",
              "      gap: 12px;\n",
              "    }\n",
              "\n",
              "    .colab-df-convert {\n",
              "      background-color: #E8F0FE;\n",
              "      border: none;\n",
              "      border-radius: 50%;\n",
              "      cursor: pointer;\n",
              "      display: none;\n",
              "      fill: #1967D2;\n",
              "      height: 32px;\n",
              "      padding: 0 0 0 0;\n",
              "      width: 32px;\n",
              "    }\n",
              "\n",
              "    .colab-df-convert:hover {\n",
              "      background-color: #E2EBFA;\n",
              "      box-shadow: 0px 1px 2px rgba(60, 64, 67, 0.3), 0px 1px 3px 1px rgba(60, 64, 67, 0.15);\n",
              "      fill: #174EA6;\n",
              "    }\n",
              "\n",
              "    [theme=dark] .colab-df-convert {\n",
              "      background-color: #3B4455;\n",
              "      fill: #D2E3FC;\n",
              "    }\n",
              "\n",
              "    [theme=dark] .colab-df-convert:hover {\n",
              "      background-color: #434B5C;\n",
              "      box-shadow: 0px 1px 3px 1px rgba(0, 0, 0, 0.15);\n",
              "      filter: drop-shadow(0px 1px 2px rgba(0, 0, 0, 0.3));\n",
              "      fill: #FFFFFF;\n",
              "    }\n",
              "  </style>\n",
              "\n",
              "      <script>\n",
              "        const buttonEl =\n",
              "          document.querySelector('#df-88cd570c-ce85-4f1c-a2bf-61ac9e503022 button.colab-df-convert');\n",
              "        buttonEl.style.display =\n",
              "          google.colab.kernel.accessAllowed ? 'block' : 'none';\n",
              "\n",
              "        async function convertToInteractive(key) {\n",
              "          const element = document.querySelector('#df-88cd570c-ce85-4f1c-a2bf-61ac9e503022');\n",
              "          const dataTable =\n",
              "            await google.colab.kernel.invokeFunction('convertToInteractive',\n",
              "                                                     [key], {});\n",
              "          if (!dataTable) return;\n",
              "\n",
              "          const docLinkHtml = 'Like what you see? Visit the ' +\n",
              "            '<a target=\"_blank\" href=https://colab.research.google.com/notebooks/data_table.ipynb>data table notebook</a>'\n",
              "            + ' to learn more about interactive tables.';\n",
              "          element.innerHTML = '';\n",
              "          dataTable['output_type'] = 'display_data';\n",
              "          await google.colab.output.renderOutput(dataTable, element);\n",
              "          const docLink = document.createElement('div');\n",
              "          docLink.innerHTML = docLinkHtml;\n",
              "          element.appendChild(docLink);\n",
              "        }\n",
              "      </script>\n",
              "    </div>\n",
              "  </div>\n",
              "  "
            ]
          },
          "metadata": {},
          "execution_count": 19
        }
      ]
    },
    {
      "cell_type": "code",
      "source": [
        "df.drop(columns = ['text', 'tokenized_text'], inplace= True)"
      ],
      "metadata": {
        "id": "xDmmORZbEpQT"
      },
      "execution_count": 20,
      "outputs": []
    },
    {
      "cell_type": "code",
      "source": [
        "df.head()"
      ],
      "metadata": {
        "colab": {
          "base_uri": "https://localhost:8080/",
          "height": 206
        },
        "id": "0RK6ia47E_mN",
        "outputId": "fd0d8537-0fc1-45e0-fd01-26364d30c2ae"
      },
      "execution_count": 21,
      "outputs": [
        {
          "output_type": "execute_result",
          "data": {
            "text/plain": [
              "  sentiment                                         clean_text\n",
              "0       neg  wo deny purchased eBay high expectations incre...\n",
              "1       neg  saddest thing tribute almost singers including...\n",
              "2       neg  Last night decided watch prequel shall say cal...\n",
              "3       neg  admit liked first half Sleepers looked good ac...\n",
              "4       neg  impressed film especially fact went cinema fam..."
            ],
            "text/html": [
              "\n",
              "  <div id=\"df-39a80e77-5989-41ae-ad23-c4da86990063\">\n",
              "    <div class=\"colab-df-container\">\n",
              "      <div>\n",
              "<style scoped>\n",
              "    .dataframe tbody tr th:only-of-type {\n",
              "        vertical-align: middle;\n",
              "    }\n",
              "\n",
              "    .dataframe tbody tr th {\n",
              "        vertical-align: top;\n",
              "    }\n",
              "\n",
              "    .dataframe thead th {\n",
              "        text-align: right;\n",
              "    }\n",
              "</style>\n",
              "<table border=\"1\" class=\"dataframe\">\n",
              "  <thead>\n",
              "    <tr style=\"text-align: right;\">\n",
              "      <th></th>\n",
              "      <th>sentiment</th>\n",
              "      <th>clean_text</th>\n",
              "    </tr>\n",
              "  </thead>\n",
              "  <tbody>\n",
              "    <tr>\n",
              "      <th>0</th>\n",
              "      <td>neg</td>\n",
              "      <td>wo deny purchased eBay high expectations incre...</td>\n",
              "    </tr>\n",
              "    <tr>\n",
              "      <th>1</th>\n",
              "      <td>neg</td>\n",
              "      <td>saddest thing tribute almost singers including...</td>\n",
              "    </tr>\n",
              "    <tr>\n",
              "      <th>2</th>\n",
              "      <td>neg</td>\n",
              "      <td>Last night decided watch prequel shall say cal...</td>\n",
              "    </tr>\n",
              "    <tr>\n",
              "      <th>3</th>\n",
              "      <td>neg</td>\n",
              "      <td>admit liked first half Sleepers looked good ac...</td>\n",
              "    </tr>\n",
              "    <tr>\n",
              "      <th>4</th>\n",
              "      <td>neg</td>\n",
              "      <td>impressed film especially fact went cinema fam...</td>\n",
              "    </tr>\n",
              "  </tbody>\n",
              "</table>\n",
              "</div>\n",
              "      <button class=\"colab-df-convert\" onclick=\"convertToInteractive('df-39a80e77-5989-41ae-ad23-c4da86990063')\"\n",
              "              title=\"Convert this dataframe to an interactive table.\"\n",
              "              style=\"display:none;\">\n",
              "        \n",
              "  <svg xmlns=\"http://www.w3.org/2000/svg\" height=\"24px\"viewBox=\"0 0 24 24\"\n",
              "       width=\"24px\">\n",
              "    <path d=\"M0 0h24v24H0V0z\" fill=\"none\"/>\n",
              "    <path d=\"M18.56 5.44l.94 2.06.94-2.06 2.06-.94-2.06-.94-.94-2.06-.94 2.06-2.06.94zm-11 1L8.5 8.5l.94-2.06 2.06-.94-2.06-.94L8.5 2.5l-.94 2.06-2.06.94zm10 10l.94 2.06.94-2.06 2.06-.94-2.06-.94-.94-2.06-.94 2.06-2.06.94z\"/><path d=\"M17.41 7.96l-1.37-1.37c-.4-.4-.92-.59-1.43-.59-.52 0-1.04.2-1.43.59L10.3 9.45l-7.72 7.72c-.78.78-.78 2.05 0 2.83L4 21.41c.39.39.9.59 1.41.59.51 0 1.02-.2 1.41-.59l7.78-7.78 2.81-2.81c.8-.78.8-2.07 0-2.86zM5.41 20L4 18.59l7.72-7.72 1.47 1.35L5.41 20z\"/>\n",
              "  </svg>\n",
              "      </button>\n",
              "      \n",
              "  <style>\n",
              "    .colab-df-container {\n",
              "      display:flex;\n",
              "      flex-wrap:wrap;\n",
              "      gap: 12px;\n",
              "    }\n",
              "\n",
              "    .colab-df-convert {\n",
              "      background-color: #E8F0FE;\n",
              "      border: none;\n",
              "      border-radius: 50%;\n",
              "      cursor: pointer;\n",
              "      display: none;\n",
              "      fill: #1967D2;\n",
              "      height: 32px;\n",
              "      padding: 0 0 0 0;\n",
              "      width: 32px;\n",
              "    }\n",
              "\n",
              "    .colab-df-convert:hover {\n",
              "      background-color: #E2EBFA;\n",
              "      box-shadow: 0px 1px 2px rgba(60, 64, 67, 0.3), 0px 1px 3px 1px rgba(60, 64, 67, 0.15);\n",
              "      fill: #174EA6;\n",
              "    }\n",
              "\n",
              "    [theme=dark] .colab-df-convert {\n",
              "      background-color: #3B4455;\n",
              "      fill: #D2E3FC;\n",
              "    }\n",
              "\n",
              "    [theme=dark] .colab-df-convert:hover {\n",
              "      background-color: #434B5C;\n",
              "      box-shadow: 0px 1px 3px 1px rgba(0, 0, 0, 0.15);\n",
              "      filter: drop-shadow(0px 1px 2px rgba(0, 0, 0, 0.3));\n",
              "      fill: #FFFFFF;\n",
              "    }\n",
              "  </style>\n",
              "\n",
              "      <script>\n",
              "        const buttonEl =\n",
              "          document.querySelector('#df-39a80e77-5989-41ae-ad23-c4da86990063 button.colab-df-convert');\n",
              "        buttonEl.style.display =\n",
              "          google.colab.kernel.accessAllowed ? 'block' : 'none';\n",
              "\n",
              "        async function convertToInteractive(key) {\n",
              "          const element = document.querySelector('#df-39a80e77-5989-41ae-ad23-c4da86990063');\n",
              "          const dataTable =\n",
              "            await google.colab.kernel.invokeFunction('convertToInteractive',\n",
              "                                                     [key], {});\n",
              "          if (!dataTable) return;\n",
              "\n",
              "          const docLinkHtml = 'Like what you see? Visit the ' +\n",
              "            '<a target=\"_blank\" href=https://colab.research.google.com/notebooks/data_table.ipynb>data table notebook</a>'\n",
              "            + ' to learn more about interactive tables.';\n",
              "          element.innerHTML = '';\n",
              "          dataTable['output_type'] = 'display_data';\n",
              "          await google.colab.output.renderOutput(dataTable, element);\n",
              "          const docLink = document.createElement('div');\n",
              "          docLink.innerHTML = docLinkHtml;\n",
              "          element.appendChild(docLink);\n",
              "        }\n",
              "      </script>\n",
              "    </div>\n",
              "  </div>\n",
              "  "
            ]
          },
          "metadata": {},
          "execution_count": 21
        }
      ]
    },
    {
      "cell_type": "code",
      "source": [
        "def sentiments(df, input_col = 'sentiment', output_col = 'target'):\n",
        "  df.loc[:, output_col] = df.loc[:, input_col].apply(lambda x : 0 if x == \"neg\" else 1)\n",
        "  return df"
      ],
      "metadata": {
        "id": "okCqroyXFCMG"
      },
      "execution_count": 22,
      "outputs": []
    },
    {
      "cell_type": "code",
      "source": [
        "df = sentiments(df)"
      ],
      "metadata": {
        "id": "wNFrzl8lFlkw"
      },
      "execution_count": 23,
      "outputs": []
    },
    {
      "cell_type": "code",
      "source": [
        "df.head()"
      ],
      "metadata": {
        "colab": {
          "base_uri": "https://localhost:8080/",
          "height": 206
        },
        "id": "Hb99b6kxFqXV",
        "outputId": "4ef11847-79ec-45bf-cf18-c837184ca0d4"
      },
      "execution_count": 24,
      "outputs": [
        {
          "output_type": "execute_result",
          "data": {
            "text/plain": [
              "  sentiment                                         clean_text  target\n",
              "0       neg  wo deny purchased eBay high expectations incre...       0\n",
              "1       neg  saddest thing tribute almost singers including...       0\n",
              "2       neg  Last night decided watch prequel shall say cal...       0\n",
              "3       neg  admit liked first half Sleepers looked good ac...       0\n",
              "4       neg  impressed film especially fact went cinema fam...       0"
            ],
            "text/html": [
              "\n",
              "  <div id=\"df-9df323b6-95f7-425c-b1b9-6ec24f6d0d68\">\n",
              "    <div class=\"colab-df-container\">\n",
              "      <div>\n",
              "<style scoped>\n",
              "    .dataframe tbody tr th:only-of-type {\n",
              "        vertical-align: middle;\n",
              "    }\n",
              "\n",
              "    .dataframe tbody tr th {\n",
              "        vertical-align: top;\n",
              "    }\n",
              "\n",
              "    .dataframe thead th {\n",
              "        text-align: right;\n",
              "    }\n",
              "</style>\n",
              "<table border=\"1\" class=\"dataframe\">\n",
              "  <thead>\n",
              "    <tr style=\"text-align: right;\">\n",
              "      <th></th>\n",
              "      <th>sentiment</th>\n",
              "      <th>clean_text</th>\n",
              "      <th>target</th>\n",
              "    </tr>\n",
              "  </thead>\n",
              "  <tbody>\n",
              "    <tr>\n",
              "      <th>0</th>\n",
              "      <td>neg</td>\n",
              "      <td>wo deny purchased eBay high expectations incre...</td>\n",
              "      <td>0</td>\n",
              "    </tr>\n",
              "    <tr>\n",
              "      <th>1</th>\n",
              "      <td>neg</td>\n",
              "      <td>saddest thing tribute almost singers including...</td>\n",
              "      <td>0</td>\n",
              "    </tr>\n",
              "    <tr>\n",
              "      <th>2</th>\n",
              "      <td>neg</td>\n",
              "      <td>Last night decided watch prequel shall say cal...</td>\n",
              "      <td>0</td>\n",
              "    </tr>\n",
              "    <tr>\n",
              "      <th>3</th>\n",
              "      <td>neg</td>\n",
              "      <td>admit liked first half Sleepers looked good ac...</td>\n",
              "      <td>0</td>\n",
              "    </tr>\n",
              "    <tr>\n",
              "      <th>4</th>\n",
              "      <td>neg</td>\n",
              "      <td>impressed film especially fact went cinema fam...</td>\n",
              "      <td>0</td>\n",
              "    </tr>\n",
              "  </tbody>\n",
              "</table>\n",
              "</div>\n",
              "      <button class=\"colab-df-convert\" onclick=\"convertToInteractive('df-9df323b6-95f7-425c-b1b9-6ec24f6d0d68')\"\n",
              "              title=\"Convert this dataframe to an interactive table.\"\n",
              "              style=\"display:none;\">\n",
              "        \n",
              "  <svg xmlns=\"http://www.w3.org/2000/svg\" height=\"24px\"viewBox=\"0 0 24 24\"\n",
              "       width=\"24px\">\n",
              "    <path d=\"M0 0h24v24H0V0z\" fill=\"none\"/>\n",
              "    <path d=\"M18.56 5.44l.94 2.06.94-2.06 2.06-.94-2.06-.94-.94-2.06-.94 2.06-2.06.94zm-11 1L8.5 8.5l.94-2.06 2.06-.94-2.06-.94L8.5 2.5l-.94 2.06-2.06.94zm10 10l.94 2.06.94-2.06 2.06-.94-2.06-.94-.94-2.06-.94 2.06-2.06.94z\"/><path d=\"M17.41 7.96l-1.37-1.37c-.4-.4-.92-.59-1.43-.59-.52 0-1.04.2-1.43.59L10.3 9.45l-7.72 7.72c-.78.78-.78 2.05 0 2.83L4 21.41c.39.39.9.59 1.41.59.51 0 1.02-.2 1.41-.59l7.78-7.78 2.81-2.81c.8-.78.8-2.07 0-2.86zM5.41 20L4 18.59l7.72-7.72 1.47 1.35L5.41 20z\"/>\n",
              "  </svg>\n",
              "      </button>\n",
              "      \n",
              "  <style>\n",
              "    .colab-df-container {\n",
              "      display:flex;\n",
              "      flex-wrap:wrap;\n",
              "      gap: 12px;\n",
              "    }\n",
              "\n",
              "    .colab-df-convert {\n",
              "      background-color: #E8F0FE;\n",
              "      border: none;\n",
              "      border-radius: 50%;\n",
              "      cursor: pointer;\n",
              "      display: none;\n",
              "      fill: #1967D2;\n",
              "      height: 32px;\n",
              "      padding: 0 0 0 0;\n",
              "      width: 32px;\n",
              "    }\n",
              "\n",
              "    .colab-df-convert:hover {\n",
              "      background-color: #E2EBFA;\n",
              "      box-shadow: 0px 1px 2px rgba(60, 64, 67, 0.3), 0px 1px 3px 1px rgba(60, 64, 67, 0.15);\n",
              "      fill: #174EA6;\n",
              "    }\n",
              "\n",
              "    [theme=dark] .colab-df-convert {\n",
              "      background-color: #3B4455;\n",
              "      fill: #D2E3FC;\n",
              "    }\n",
              "\n",
              "    [theme=dark] .colab-df-convert:hover {\n",
              "      background-color: #434B5C;\n",
              "      box-shadow: 0px 1px 3px 1px rgba(0, 0, 0, 0.15);\n",
              "      filter: drop-shadow(0px 1px 2px rgba(0, 0, 0, 0.3));\n",
              "      fill: #FFFFFF;\n",
              "    }\n",
              "  </style>\n",
              "\n",
              "      <script>\n",
              "        const buttonEl =\n",
              "          document.querySelector('#df-9df323b6-95f7-425c-b1b9-6ec24f6d0d68 button.colab-df-convert');\n",
              "        buttonEl.style.display =\n",
              "          google.colab.kernel.accessAllowed ? 'block' : 'none';\n",
              "\n",
              "        async function convertToInteractive(key) {\n",
              "          const element = document.querySelector('#df-9df323b6-95f7-425c-b1b9-6ec24f6d0d68');\n",
              "          const dataTable =\n",
              "            await google.colab.kernel.invokeFunction('convertToInteractive',\n",
              "                                                     [key], {});\n",
              "          if (!dataTable) return;\n",
              "\n",
              "          const docLinkHtml = 'Like what you see? Visit the ' +\n",
              "            '<a target=\"_blank\" href=https://colab.research.google.com/notebooks/data_table.ipynb>data table notebook</a>'\n",
              "            + ' to learn more about interactive tables.';\n",
              "          element.innerHTML = '';\n",
              "          dataTable['output_type'] = 'display_data';\n",
              "          await google.colab.output.renderOutput(dataTable, element);\n",
              "          const docLink = document.createElement('div');\n",
              "          docLink.innerHTML = docLinkHtml;\n",
              "          element.appendChild(docLink);\n",
              "        }\n",
              "      </script>\n",
              "    </div>\n",
              "  </div>\n",
              "  "
            ]
          },
          "metadata": {},
          "execution_count": 24
        }
      ]
    },
    {
      "cell_type": "code",
      "source": [
        "df['target'].value_counts()"
      ],
      "metadata": {
        "colab": {
          "base_uri": "https://localhost:8080/"
        },
        "id": "tgcqtfaWFu7f",
        "outputId": "0722ce21-3f77-4ab3-c46d-0027f4ca758f"
      },
      "execution_count": 25,
      "outputs": [
        {
          "output_type": "execute_result",
          "data": {
            "text/plain": [
              "0    12500\n",
              "1    12500\n",
              "Name: target, dtype: int64"
            ]
          },
          "metadata": {},
          "execution_count": 25
        }
      ]
    },
    {
      "cell_type": "code",
      "source": [
        "df.drop(columns = ['sentiment'], inplace = True)"
      ],
      "metadata": {
        "id": "e5HXup9LF6-i"
      },
      "execution_count": 26,
      "outputs": []
    },
    {
      "cell_type": "code",
      "source": [
        "from sklearn.model_selection import train_test_split"
      ],
      "metadata": {
        "id": "OjHur7hEGFck"
      },
      "execution_count": 27,
      "outputs": []
    },
    {
      "cell_type": "code",
      "source": [
        "X_train, X_val, y_train, y_val = train_test_split(df['clean_text'].to_numpy(),\n",
        "                                                  df['target'].to_numpy(),\n",
        "                                                  test_size = 0.1,\n",
        "                                                  random_state = 0)"
      ],
      "metadata": {
        "id": "5oIRiNJWGRCL"
      },
      "execution_count": 28,
      "outputs": []
    },
    {
      "cell_type": "code",
      "source": [
        "len(X_train), len(X_val)"
      ],
      "metadata": {
        "colab": {
          "base_uri": "https://localhost:8080/"
        },
        "id": "BH4QkHQ5HTJN",
        "outputId": "dd7eece0-860a-4c74-dbe9-58bd7054ce3e"
      },
      "execution_count": 29,
      "outputs": [
        {
          "output_type": "execute_result",
          "data": {
            "text/plain": [
              "(22500, 2500)"
            ]
          },
          "metadata": {},
          "execution_count": 29
        }
      ]
    },
    {
      "cell_type": "code",
      "source": [
        "X_train[:5]"
      ],
      "metadata": {
        "colab": {
          "base_uri": "https://localhost:8080/"
        },
        "id": "FT2i-eBaHWE1",
        "outputId": "50288b36-ff8e-49ad-e117-ee3ffd7844c3"
      },
      "execution_count": 30,
      "outputs": [
        {
          "output_type": "execute_result",
          "data": {
            "text/plain": [
              "array(['Return Jedi often remembered wrong rather right shame last chronological installment Star Wars saga shining example epic storytelling manages wrap story lines previous movies one grand finale br / br / Yes Ewoks - cute cuddly bears arguably served broaden Star Wars demographic - middle movie tends slow bit final hour arguably best piece entire saga Luke finally comes face face Darth Vader recognizable villain movie br / br / Return Jedi many things right people tend overlook : presented incredible conclusion Darth Vader storyline went slightly implausible Empire Strikes Back convincing exciting opening Jabba Palace masterful performance Ian McDiarmid Emperor Luke finally coming resolution Solo Leia romance extremely powerful final moments Endor br / br / Yes slight annoyances annoyances generation moviegoers time nitpick every single scene still magical moving piece cinema also serves great final chapter movie - fantastic',\n",
              "       'Want know secret making slasher film set fitness center work pad film lovely ladies super tight workout outfits bump grind floor like gentleman club makers horrid slasher film little gimmick kept watching till bitter end worst slasher film ever seen every time ready switch channel add another scene workout girls stay put slasher film Killer Workout fails every category think showcase beautiful girls working success Strong recommendation avoid unless thought half film big & show appeals',\n",
              "       'small funny film totally incredible unbelievable impossible funny introverted masochist become totally dependent mesmerized even hypnotized girl hardly knows able get phantasms course denunciation foolish deals get Internet must believe ten percent told never ever ever accept tie hands way another someone something organization know personally businesses way another going fool raid chap deserves victim gangsters naive absurdly silly film becomes funny ends victim crooked business upper hand ending playing game victimizer winning One think sure Security English airports exactly guess better anywhere else world even tightened rules regulations fun go procedures foil systematically vengeance losing luggage real plague modern airports expect get fair compensation even confiscating bottle opener opener may dangerous see cutting way side plane opener Funny Dr Jacques COULARDEAU University Paris Dauphine University Paris 1 Pantheon Sorbonne & University Versailles Saint Quentin en Yvelines',\n",
              "       'Every generation fully believes living end times true thousands years movies like feed get great Orson Welles narrate train wreck documentary biblical prophecies Armageddon tries link prophecies well happening times made making obviously dated kind br / br / reenactments look like Unsolved Mysteries without high production values People embarrassed take part br / br / short movie dated silly reactionary useless Good want good laugh good enough actually look',\n",
              "       'saw elaborate DVD box dreadful Red Queen figurine felt certain big disappointment surprise surprise loved Convoluted nonsense course unforgivable complicated denouement rushed point barely able read subtitles let alone take ridiculous explanation quibbles apart however film dream Fabulous ladies fabulous outfits wonderful settings whole thing constantly move accompanied wonderful Bruno Nicolai score may Morricone lighter pieces might well Really enjoyable lots colour plenty sexiness gory kills minimal police interference Super'],\n",
              "      dtype=object)"
            ]
          },
          "metadata": {},
          "execution_count": 30
        }
      ]
    },
    {
      "cell_type": "code",
      "source": [
        "from tensorflow.keras.layers.experimental.preprocessing import TextVectorization "
      ],
      "metadata": {
        "id": "1fCc7pPjHZVS"
      },
      "execution_count": 31,
      "outputs": []
    },
    {
      "cell_type": "code",
      "source": [
        "total_words = 0\n",
        "for sent in X_train:\n",
        "  total_words += len(sent.split())"
      ],
      "metadata": {
        "id": "7jaI3HMCHr3x"
      },
      "execution_count": 32,
      "outputs": []
    },
    {
      "cell_type": "code",
      "source": [
        "total_words"
      ],
      "metadata": {
        "colab": {
          "base_uri": "https://localhost:8080/"
        },
        "id": "JMxDaoyeH-DL",
        "outputId": "83cc1997-226d-4348-dd26-cb474e847bdb"
      },
      "execution_count": 33,
      "outputs": [
        {
          "output_type": "execute_result",
          "data": {
            "text/plain": [
              "2874246"
            ]
          },
          "metadata": {},
          "execution_count": 33
        }
      ]
    },
    {
      "cell_type": "code",
      "source": [
        "output_sequence_length = total_words/len(X_train)\n",
        "output_sequence_length"
      ],
      "metadata": {
        "colab": {
          "base_uri": "https://localhost:8080/"
        },
        "id": "vAyTp6AYH_8u",
        "outputId": "a7bb2e68-1dd9-4525-eb2e-2a61ad381266"
      },
      "execution_count": 34,
      "outputs": [
        {
          "output_type": "execute_result",
          "data": {
            "text/plain": [
              "127.74426666666666"
            ]
          },
          "metadata": {},
          "execution_count": 34
        }
      ]
    },
    {
      "cell_type": "code",
      "source": [
        "max_vocab_length = 20000\n",
        "max_length = 128 # ~ 127.74426666"
      ],
      "metadata": {
        "id": "jFLyOvALIHac"
      },
      "execution_count": 35,
      "outputs": []
    },
    {
      "cell_type": "code",
      "source": [
        "text_vectorizer = TextVectorization(max_tokens = max_vocab_length,\n",
        "                                    output_mode = 'int', \n",
        "                                    output_sequence_length = max_length)"
      ],
      "metadata": {
        "id": "i4030yAGIUAR"
      },
      "execution_count": 36,
      "outputs": []
    },
    {
      "cell_type": "code",
      "source": [
        "text_vectorizer.adapt(X_train)"
      ],
      "metadata": {
        "id": "5HtaLKA2Jd-4"
      },
      "execution_count": 37,
      "outputs": []
    },
    {
      "cell_type": "code",
      "source": [
        "import random \n",
        "random_sentance = random.choice(X_train)"
      ],
      "metadata": {
        "id": "xeivmYfKJhcE"
      },
      "execution_count": 38,
      "outputs": []
    },
    {
      "cell_type": "code",
      "source": [
        "print(random_sentance)\n",
        "text_vectorizer([random_sentance])"
      ],
      "metadata": {
        "colab": {
          "base_uri": "https://localhost:8080/"
        },
        "id": "IFxpJuJdKOnb",
        "outputId": "af444763-4159-4f20-a2e6-84e6d0c19e3b"
      },
      "execution_count": 39,
      "outputs": [
        {
          "output_type": "stream",
          "name": "stdout",
          "text": [
            "Taiwanese director Ang Lee whose previous films include Sensibility Ice Storm turned American Civil War latest feature Based novel Daniel Woodrell follows exploits group Southern guerrillas known bushwhackers fight Northern equivalents jayhawkers backwater br / br / one might expect plenty visceral action focus tension war put young men fought - many fighting former neighbours even family Jake Roedel Tobey Maguire man rather boy seventeen war reaches Missouri son German immigrant instead following countrymen becoming Unionist joins lifelong friend Jack Bull Chiles Skeet Ulrich rides bushwhackers Despite lack acceptance ancestry unwillingness participate murder unarmed Union men remains loyal cause friend Daniel Holt Jeffrey Wright black slave freed another bushwhacker fighting br / br / Lee handles subject aplomb never rushing deep introspection plot demands favour action lends film sense reality war - long periods boredom waiting interposed occasional flashes intensely terrifying fighting action unglamorised admirably candid recognising sides committed great number br / br / performances superb Maguire Wright courageous dignified Up-and-coming Irish actor Jonathan Rhys Meyers particularly chilling cold-blooded killer Skeet Ulrich enjoyably suave arrogant Lee never flinches reality war actors admirable job showing good comes - growth friendship demonstration courage wider scale emancipation oppressed peoples Ride Devil beautiful deeply compassionate film regularly shocks always moves audience\n"
          ]
        },
        {
          "output_type": "execute_result",
          "data": {
            "text/plain": [
              "<tf.Tensor: shape=(1, 128), dtype=int64, numpy=\n",
              "array([[13157,    70, 13596,   629,   473,   791,    31,  1246,  7258,\n",
              "         1897,  2906,   542,   201,  3226,   221,  2310,   668,   329,\n",
              "          506,  2056,     1,   983,  5816,   458,  2663,     1,   515,\n",
              "        16863,   406,  6034,     1,     1,     1,     2,     2,     5,\n",
              "          125,   390,   796,  8892,   113,   986,   920,   221,   160,\n",
              "           83,   226,  5083,    32,   830,   966, 10664,     9,   110,\n",
              "         2804,     1, 17072,  9631,    47,   134,   304, 16336,   221,\n",
              "         4036, 11275,   361,   990,  7174,   191,   885,     1,  1348,\n",
              "            1,  4910,  8095,   319,   530,  4821,     1,     1, 16236,\n",
              "         6187, 16863,   331,   433,  5478, 16139, 13645,  7144,   451,\n",
              "        15436,  3408,   226,  1081,  4408,  1033,   319,  2056,  7813,\n",
              "         3791,  6891,   211,  4299,  8811,    60,     1,   830,     2,\n",
              "            2,   629,  5724,   722,  9528,    35, 12321,   793, 15798,\n",
              "           38,  3670,  5029,   113,  6610,     4,   167,   504,   221,\n",
              "          103,  6932]])>"
            ]
          },
          "metadata": {},
          "execution_count": 39
        }
      ]
    },
    {
      "cell_type": "code",
      "source": [
        "from tensorflow.keras import layers "
      ],
      "metadata": {
        "id": "1bVA_YKjKVTH"
      },
      "execution_count": 40,
      "outputs": []
    },
    {
      "cell_type": "code",
      "source": [
        "embedding = layers.Embedding(input_dim = max_vocab_length, \n",
        "                             output_dim = 128, \n",
        "                             input_length = max_length)"
      ],
      "metadata": {
        "id": "8jFHhXPMKh30"
      },
      "execution_count": 41,
      "outputs": []
    },
    {
      "cell_type": "code",
      "source": [
        "from sklearn.metrics import accuracy_score, precision_recall_fscore_support"
      ],
      "metadata": {
        "id": "tuqpjZcSK3qH"
      },
      "execution_count": 42,
      "outputs": []
    },
    {
      "cell_type": "code",
      "source": [
        "\n",
        "from sklearn.metrics import accuracy_score, precision_recall_fscore_support\n",
        "def calculate_results(y_true, y_pred):\n",
        "  model_accuracy = accuracy_score(y_true, y_pred)*100\n",
        "  model_precision, model_recall, model_f1, _ = precision_recall_fscore_support(y_true, y_pred, average = 'weighted')\n",
        "  model_results = {'accuracy' : model_accuracy,\n",
        "                   'precision' : model_precision,\n",
        "                   'recall' : model_recall,\n",
        "                   'f1': model_f1}\n",
        "  return model_results"
      ],
      "metadata": {
        "id": "CJb3H9-rLErC"
      },
      "execution_count": 43,
      "outputs": []
    },
    {
      "cell_type": "code",
      "source": [
        "inputs = layers.Input(shape = (1,), dtype = 'string')\n",
        "x = text_vectorizer(inputs)\n",
        "x = embedding(x)\n",
        "\n",
        "x = layers.GlobalAveragePooling1D()(x)\n",
        "outputs = layers.Dense(1, activation = 'sigmoid')(x)\n",
        "\n",
        "model_1 = tf.keras.Model(inputs, outputs)\n"
      ],
      "metadata": {
        "id": "dDmyCItnPQEB"
      },
      "execution_count": 44,
      "outputs": []
    },
    {
      "cell_type": "code",
      "source": [
        "model_1.compile(loss = 'binary_crossentropy', \n",
        "                optimizer = tf.keras.optimizers.Adam(), \n",
        "                metrics = ['accuracy'])"
      ],
      "metadata": {
        "id": "F7A-gpjaPw5M"
      },
      "execution_count": 45,
      "outputs": []
    },
    {
      "cell_type": "code",
      "source": [
        "history_1 = model_1.fit(X_train, y_train, \n",
        "                      epochs = 1, \n",
        "                      validation_data = (X_val, y_val))"
      ],
      "metadata": {
        "colab": {
          "base_uri": "https://localhost:8080/"
        },
        "id": "loRKb2GYQCNM",
        "outputId": "d5d98e18-b425-46cd-fd7e-0a21e716d1e7"
      },
      "execution_count": 46,
      "outputs": [
        {
          "output_type": "stream",
          "name": "stdout",
          "text": [
            "704/704 [==============================] - 34s 47ms/step - loss: 0.5081 - accuracy: 0.8038 - val_loss: 0.3590 - val_accuracy: 0.8596\n"
          ]
        }
      ]
    },
    {
      "cell_type": "code",
      "source": [
        "probs = model_1.predict(X_val)"
      ],
      "metadata": {
        "colab": {
          "base_uri": "https://localhost:8080/"
        },
        "id": "xSof6sIKRBNZ",
        "outputId": "3da77d9e-d4b4-4e20-b0dd-d614ca75b948"
      },
      "execution_count": 47,
      "outputs": [
        {
          "output_type": "stream",
          "name": "stdout",
          "text": [
            "79/79 [==============================] - 1s 7ms/step\n"
          ]
        }
      ]
    },
    {
      "cell_type": "code",
      "source": [
        "preds = tf.squeeze(tf.round(probs))"
      ],
      "metadata": {
        "id": "qrUB2-84RWl-"
      },
      "execution_count": 48,
      "outputs": []
    },
    {
      "cell_type": "code",
      "source": [
        "preds"
      ],
      "metadata": {
        "colab": {
          "base_uri": "https://localhost:8080/"
        },
        "id": "iezBDj_QRYVC",
        "outputId": "374c2889-3803-42bb-bc92-5516a3ebf0fc"
      },
      "execution_count": 49,
      "outputs": [
        {
          "output_type": "execute_result",
          "data": {
            "text/plain": [
              "<tf.Tensor: shape=(2500,), dtype=float32, numpy=array([0., 0., 1., ..., 0., 1., 1.], dtype=float32)>"
            ]
          },
          "metadata": {},
          "execution_count": 49
        }
      ]
    },
    {
      "cell_type": "code",
      "source": [
        "model_1_results = calculate_results(y_true = y_val, \n",
        "                                    y_pred = preds)"
      ],
      "metadata": {
        "id": "z7iOEpuYRq_m"
      },
      "execution_count": 50,
      "outputs": []
    },
    {
      "cell_type": "code",
      "source": [
        "model_1_results\n"
      ],
      "metadata": {
        "colab": {
          "base_uri": "https://localhost:8080/"
        },
        "id": "Mr104T5bR9ja",
        "outputId": "17c654ba-5434-409a-9736-0b2e43264329"
      },
      "execution_count": 51,
      "outputs": [
        {
          "output_type": "execute_result",
          "data": {
            "text/plain": [
              "{'accuracy': 85.96000000000001,\n",
              " 'precision': 0.8613304588097813,\n",
              " 'recall': 0.8596,\n",
              " 'f1': 0.8594681482005734}"
            ]
          },
          "metadata": {},
          "execution_count": 51
        }
      ]
    },
    {
      "cell_type": "markdown",
      "source": [
        "# LSTM "
      ],
      "metadata": {
        "id": "WMszCNoGSzo4"
      }
    },
    {
      "cell_type": "code",
      "source": [
        "from tensorflow.keras import layers"
      ],
      "metadata": {
        "id": "6u07LDfbR_Vp"
      },
      "execution_count": 52,
      "outputs": []
    },
    {
      "cell_type": "code",
      "source": [
        "embedding_2 = layers.Embedding(input_dim = max_vocab_length, \n",
        "                               output_dim = 128, \n",
        "                               input_length = max_length)"
      ],
      "metadata": {
        "id": "zJYGxwdkS_uw"
      },
      "execution_count": 53,
      "outputs": []
    },
    {
      "cell_type": "code",
      "source": [
        "inputs = layers.Input(shape = (1,), dtype = 'string')\n",
        "x = text_vectorizer(inputs)\n",
        "x = embedding_2(x)\n",
        "\n",
        "x = layers.LSTM(64)(x)\n",
        "x = layers.Dense(64, activation = 'relu')(x)\n",
        "\n",
        "outputs = layers.Dense(1, activation = 'sigmoid')(x)\n",
        "\n",
        "model_2 = tf.keras.Model(inputs, outputs, name =\"LSTM\")\n",
        "\n"
      ],
      "metadata": {
        "id": "7kdCAB5PUnxz"
      },
      "execution_count": 54,
      "outputs": []
    },
    {
      "cell_type": "code",
      "source": [
        "model_2.compile(loss = 'binary_crossentropy', \n",
        "                optimizer = tf.keras.optimizers.Adam(), \n",
        "                metrics = ['accuracy'])"
      ],
      "metadata": {
        "id": "xytqd7b4VVfI"
      },
      "execution_count": 55,
      "outputs": []
    },
    {
      "cell_type": "code",
      "source": [
        "history_2 = model_2.fit(X_train, y_train, \n",
        "                      epochs = 1, \n",
        "                      validation_data = (X_val, y_val))"
      ],
      "metadata": {
        "colab": {
          "base_uri": "https://localhost:8080/"
        },
        "id": "byPmGLALVfkM",
        "outputId": "4d22bcb2-0083-406d-83f3-0032d401782b"
      },
      "execution_count": 56,
      "outputs": [
        {
          "output_type": "stream",
          "name": "stdout",
          "text": [
            "704/704 [==============================] - 159s 215ms/step - loss: 0.6603 - accuracy: 0.5908 - val_loss: 0.5281 - val_accuracy: 0.7792\n"
          ]
        }
      ]
    },
    {
      "cell_type": "code",
      "source": [
        "model_2_probs = model_2.predict(X_val)\n",
        "model_2_preds = tf.squeeze(tf.round(model_2_probs))"
      ],
      "metadata": {
        "colab": {
          "base_uri": "https://localhost:8080/"
        },
        "id": "NPo1vSm7VlxV",
        "outputId": "cffaf477-7c31-4f09-b8c7-4afc643ac18e"
      },
      "execution_count": 57,
      "outputs": [
        {
          "output_type": "stream",
          "name": "stdout",
          "text": [
            "79/79 [==============================] - 6s 50ms/step\n"
          ]
        }
      ]
    },
    {
      "cell_type": "code",
      "source": [
        "model_2_results = calculate_results(y_true = y_val, \n",
        "                                    y_pred = model_2_preds)"
      ],
      "metadata": {
        "id": "Dfm3MkRZWOdO"
      },
      "execution_count": 58,
      "outputs": []
    },
    {
      "cell_type": "code",
      "source": [
        "model_2_results"
      ],
      "metadata": {
        "colab": {
          "base_uri": "https://localhost:8080/"
        },
        "id": "EJbclKlbWw6V",
        "outputId": "967e94e0-3423-42e1-beb3-0fd6b7240088"
      },
      "execution_count": 59,
      "outputs": [
        {
          "output_type": "execute_result",
          "data": {
            "text/plain": [
              "{'accuracy': 77.92,\n",
              " 'precision': 0.7796664385931193,\n",
              " 'recall': 0.7792,\n",
              " 'f1': 0.7791457272999609}"
            ]
          },
          "metadata": {},
          "execution_count": 59
        }
      ]
    },
    {
      "cell_type": "markdown",
      "source": [
        "#GRU"
      ],
      "metadata": {
        "id": "YAXLfBLNXmwe"
      }
    },
    {
      "cell_type": "code",
      "source": [
        "from tensorflow.keras import layers"
      ],
      "metadata": {
        "id": "PIoZEvYXXT8i"
      },
      "execution_count": 60,
      "outputs": []
    },
    {
      "cell_type": "code",
      "source": [
        "embedding_3 = layers.Embedding(input_dim = max_vocab_length, \n",
        "                               output_dim = 128, \n",
        "                               input_length = max_length)"
      ],
      "metadata": {
        "id": "Xx6Cje9lYJYs"
      },
      "execution_count": 61,
      "outputs": []
    },
    {
      "cell_type": "code",
      "source": [
        "inputs = layers.Input(shape = (1,), dtype = 'string')\n",
        "x = text_vectorizer(inputs)\n",
        "x = embedding_3(x)\n",
        "\n",
        "x = layers.GRU(64)(x)\n",
        "x = layers.Dense(32, activation = 'relu')(x)\n",
        "\n",
        "outputs = layers.Dense(1, activation = 'sigmoid')(x)\n",
        "\n",
        "model_3 = tf.keras.Model(inputs, outputs, name = \"model_3_GRU\")\n"
      ],
      "metadata": {
        "id": "VERNxTpiYzMC"
      },
      "execution_count": 62,
      "outputs": []
    },
    {
      "cell_type": "code",
      "source": [
        "model_3.compile(loss = 'binary_crossentropy',\n",
        "                optimizer = tf.keras.optimizers.Adam(),\n",
        "                metrics = ['accuracy'])"
      ],
      "metadata": {
        "id": "egxgb9j2ZtbU"
      },
      "execution_count": 63,
      "outputs": []
    },
    {
      "cell_type": "code",
      "source": [
        "history_3 = model_3.fit(X_train, y_train, \n",
        "                        epochs =1,\n",
        "                        validation_data = (X_val, y_val))"
      ],
      "metadata": {
        "colab": {
          "base_uri": "https://localhost:8080/"
        },
        "id": "CHCvf9mlZ2h0",
        "outputId": "a0ea5150-500d-48e3-be32-7fa3aab7f6fd"
      },
      "execution_count": 64,
      "outputs": [
        {
          "output_type": "stream",
          "name": "stdout",
          "text": [
            "704/704 [==============================] - 116s 160ms/step - loss: 0.6710 - accuracy: 0.5504 - val_loss: 0.4237 - val_accuracy: 0.8220\n"
          ]
        }
      ]
    },
    {
      "cell_type": "markdown",
      "source": [
        "# Bidirectional RNN model "
      ],
      "metadata": {
        "id": "-sbztkDzPTXL"
      }
    },
    {
      "cell_type": "code",
      "source": [
        "embedding_4 = layers.Embedding(input_dim = max_vocab_length, \n",
        "                               output_dim = 128, \n",
        "                               embeddings_initializer = 'uniform',\n",
        "                               input_length = max_length)"
      ],
      "metadata": {
        "id": "S8LDkIB-aCgg"
      },
      "execution_count": 67,
      "outputs": []
    },
    {
      "cell_type": "code",
      "source": [
        "inputs = layers.Input(shape = (1,), dtype = 'string')\n",
        "x = text_vectorizer(inputs)\n",
        "x = embedding_4(x)\n",
        "x = layers.Bidirectional(layers.LSTM(64))(x)\n",
        "outputs = layers.Dense(1, activation = 'sigmoid')(x)\n",
        "\n",
        "model_4 = tf.keras.Model(inputs, outputs,)"
      ],
      "metadata": {
        "id": "Gaz8VOjbPqze"
      },
      "execution_count": 68,
      "outputs": []
    },
    {
      "cell_type": "code",
      "source": [
        "model_4.compile(loss='binary_crossentropy',\n",
        "                optimizer = tf.keras.optimizers.Adam(),\n",
        "                metrics = ['accuracy'])"
      ],
      "metadata": {
        "id": "59b5DVbKQQlc"
      },
      "execution_count": 69,
      "outputs": []
    },
    {
      "cell_type": "markdown",
      "source": [
        "#Conv1D "
      ],
      "metadata": {
        "id": "8vKxYpBPWfPE"
      }
    },
    {
      "cell_type": "code",
      "source": [
        "from tensorflow.keras import layers \n",
        "embeddoing_5 = layers.Embedding(input_dim = max_vocab_length, \n",
        "                                 output_dim = 128, \n",
        "                                 input_length = max_length)"
      ],
      "metadata": {
        "id": "GuEoDrCuQqKv"
      },
      "execution_count": 71,
      "outputs": []
    },
    {
      "cell_type": "code",
      "source": [
        "inputs = layers.Input(shape = (1,), dtype = 'string')\n",
        "x = text_vectorizer(inputs)\n",
        "x = embedding_5(x)\n",
        "\n",
        "x = layers.Conv1D(filters = 32, kernel_size = 5, activation = 'relu')(x)\n",
        "x = layers.GlobalMaxPool1D()(x)\n",
        "\n",
        "outputs = layers.Dense(1, activation = 'relu')(x)\n",
        "model_5 = tf.keras.Model(inputs, outputs)\n",
        "\n",
        "model_5.compile(loss = 'binary_crossentropy()')"
      ],
      "metadata": {
        "id": "3VEbjQORaEE9"
      },
      "execution_count": null,
      "outputs": []
    },
    {
      "cell_type": "code",
      "source": [
        "import tensorflow_hub as hub\n",
        "embed = hub.load(\"https://tfhub.dev/google/universal-sentence-encoder/4\") # load Universal Sentence Encoder\n",
        "embed_samples = embed([\"When you call the universal sentence encoder on a sentence, it turns it into numbers.\"])\n",
        "\n",
        "print(embed_samples[0][:50])\n"
      ],
      "metadata": {
        "colab": {
          "base_uri": "https://localhost:8080/"
        },
        "id": "3kmHFj8_cVxQ",
        "outputId": "84785c96-2b3a-468b-dd69-a1b35d44f8e0"
      },
      "execution_count": 72,
      "outputs": [
        {
          "output_type": "stream",
          "name": "stdout",
          "text": [
            "tf.Tensor(\n",
            "[ 0.03596691 -0.08579469 -0.01152743  0.00525982 -0.01852172 -0.05042012\n",
            " -0.03616941  0.00534677  0.04805917  0.04690744 -0.0372333  -0.01149546\n",
            "  0.04352415  0.07050991  0.0709376  -0.08180431  0.00871717 -0.04654121\n",
            " -0.02245776  0.04686872  0.00202256  0.03099072  0.02043563  0.06392168\n",
            " -0.07641086  0.08421179 -0.04576042 -0.00106165 -0.02059416  0.01241106\n",
            "  0.05727539  0.0381562  -0.02742118 -0.00354347 -0.09832586 -0.01244854\n",
            "  0.0386563   0.05031953 -0.02362506  0.00321848  0.03225209  0.00738095\n",
            "  0.04473104 -0.00412236  0.01151601  0.02837724  0.00060139 -0.05903354\n",
            " -0.00494347 -0.00688527], shape=(50,), dtype=float32)\n"
          ]
        }
      ]
    },
    {
      "cell_type": "code",
      "source": [
        "\n",
        "sentance_encoded_layer = hub.KerasLayer('https://tfhub.dev/google/universal-sentence-encoder/4',\n",
        "                                        input_shape = [],\n",
        "                                        dtype = tf.string,\n",
        "                                        trainable = False, \n",
        "                                        name = 'USE')"
      ],
      "metadata": {
        "id": "1w8yMZ4ecdFA"
      },
      "execution_count": 73,
      "outputs": []
    },
    {
      "cell_type": "code",
      "source": [
        "model_6 = tf.keras.Sequential([\n",
        "    sentance_encoded_layer,\n",
        "    layers.Dense(64, activation = 'relu'),\n",
        "    layers.Dense(1, activation = 'sigmoid')\n",
        "], name = 'model_6')\n",
        "\n",
        "model_6.compile(loss = 'binary_crossentropy',\n",
        "                optimizer = tf.keras.optimizers.Adam(),\n",
        "                metrics = ['accuracy'])"
      ],
      "metadata": {
        "id": "I75c7pcoc4HO"
      },
      "execution_count": 74,
      "outputs": []
    },
    {
      "cell_type": "code",
      "source": [],
      "metadata": {
        "id": "-38IdxLodWBC"
      },
      "execution_count": null,
      "outputs": []
    }
  ]
}